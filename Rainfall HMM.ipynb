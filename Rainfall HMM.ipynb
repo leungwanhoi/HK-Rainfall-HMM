{
  "nbformat": 4,
  "nbformat_minor": 0,
  "metadata": {
    "colab": {
      "provenance": []
    },
    "kernelspec": {
      "name": "ir",
      "display_name": "R"
    },
    "language_info": {
      "name": "R"
    },
    "gpuClass": "standard",
    "accelerator": "GPU"
  },
  "cells": [
    {
      "cell_type": "markdown",
      "source": [
        "# Dataset"
      ],
      "metadata": {
        "id": "FTT9HOzQ1-Dh"
      }
    },
    {
      "cell_type": "code",
      "execution_count": null,
      "metadata": {
        "id": "-n_y29beyngq",
        "colab": {
          "base_uri": "https://localhost:8080/",
          "height": 182
        },
        "outputId": "254d0e37-ab10-4769-f43d-5bbf0bf28691"
      },
      "outputs": [
        {
          "output_type": "error",
          "ename": "ERROR",
          "evalue": "ignored",
          "traceback": [
            "Error: `path` does not exist: ‘rainfall 50mm.xlsx’\nTraceback:\n",
            "1. as.data.frame(read_excel(\"rainfall 50mm.xlsx\"))",
            "2. read_excel(\"rainfall 50mm.xlsx\")",
            "3. check_file(path)",
            "4. stop(\"`path` does not exist: \", sQuote(path), call. = FALSE)"
          ]
        }
      ],
      "source": [
        "# Importing data from Excel\n",
        "library(\"readxl\")\n",
        "df <- as.data.frame(read_excel(\"rainfall 50mm.xlsx\"))\n",
        "# rainfall <- df[[\"Total\"]]\n",
        "# rainfall\n",
        "\n",
        "x <- df[,14]\n",
        "d <- df[,1]\n",
        "n <- length(x)"
      ]
    },
    {
      "cell_type": "code",
      "source": [
        "# install.packages('HiddenMarkov')\n",
        "\n",
        "# simulate\n",
        "library(\"HiddenMarkov\")\n",
        "\n",
        "# length of the simulated data\n",
        "nsim <- 100\n",
        "# set seed\n",
        "seed <- 40112\n",
        "\n",
        "# nstate = 2\n",
        "# transition probability matrix of Markov chain\n",
        "Pi_2 <- rbind(c(.8,.2), c(.1,.9))\n",
        "# initial distribution of Markov chain\n",
        "delta_2 <- c(.5,.5)\n",
        "# Poisson parameter\n",
        "lambda_2 <- c(10,20)\n",
        "\n",
        "# cerating HMM object\n",
        "model1 <- dthmm(NULL, Pi=Pi_2, delta=delta_2, \"pois\", list(lambda=lambda_2))\n",
        "# simulating data\n",
        "simulate1 <- simulate(model1, nsim=nsim, seed=seed)\n",
        "simulate1$x\n",
        "\n",
        "plot(simulate1$x)\n",
        "hist(simulate1$x, freq=FALSE, main='')\n",
        "summary(simulate1$x)\n",
        "sqrt(var(simulate1$x))\n",
        "\n",
        "#nstate = 3\n",
        "# transition probability matrix of Markov chain\n",
        "Pi_3 <- rbind(c(.8,.2,.0), c(.0,.0,1), c(.7,.3,.0))\n",
        "# initial distribution of Markov chain\n",
        "delta_3 <- c(1/3,1/3,1/3)\n",
        "# Poisson parameter\n",
        "lambda_3 <- c(10,20,30)\n",
        "\n",
        "# cerating HMM object\n",
        "model3 <- dthmm(NULL, Pi=Pi_3, delta=delta_3, \"pois\", list(lambda=lambda_3))\n",
        "# simulating data\n",
        "simulate3 <- simulate(model3, nsim=nsim, seed=seed)\n",
        "simulate3$x\n",
        "\n",
        "plot(simulate3$x)\n",
        "hist(simulate3$x, freq=FALSE, main='')\n",
        "summary(simulate3$x)\n",
        "sqrt(var(simulate3$x))\n",
        "\n",
        "#self-written code\n",
        "pois.HMM.sample <- function(n, pi, delta, lambda){\n",
        "  X <- rep(NA, n)\n",
        "\tY <- rep(NA, n)\n",
        "\tnstate <- 1:length(delta)\n",
        "\tY[1] <- sample(nstate,1 , prob=delta)\n",
        "\tfor (i in 2:n){\n",
        "\t  Y[i] <- sample(nstate, 1, prob=pi[Y[i-1],])\n",
        "\t\tX <- rpois(n, lambda=lambda[nstate])\n",
        "\t\t}\n",
        "  out <- cbind(X,Y)\n",
        "\treturn(out)\n",
        "}\n",
        "set.seed(40112)\n",
        "# 2-state\n",
        "pois.HMM.sample(n, pi_2, delta_2, lambda_2)\n",
        "# 3-state\n",
        "pois.HMM.sample(n, pi_3, delta_3, lambda_3)"
      ],
      "metadata": {
        "id": "5G0Auvqm6laT",
        "colab": {
          "base_uri": "https://localhost:8080/",
          "height": 130
        },
        "outputId": "064e8040-8a80-4c2e-c430-e3d8ddf3ec1b"
      },
      "execution_count": null,
      "outputs": [
        {
          "output_type": "error",
          "ename": "ERROR",
          "evalue": "ignored",
          "traceback": [
            "Error in library(\"HiddenMarkov\"): there is no package called ‘HiddenMarkov’\nTraceback:\n",
            "1. library(\"HiddenMarkov\")"
          ]
        }
      ]
    },
    {
      "cell_type": "code",
      "source": [
        "#Simulated data\n",
        "rainfall<-c(7,17,13,23,15,18,21,14,18,18,21,16,17,14,19,17,22,17,20,20,\n",
        "            20,27,23,11,16,16,25,22,26,14,22,15,25,16,26,22,21,16,21,12,\n",
        "            15,25,18,19,17,20,17,24,30,17,16,11,9,12,14,22,15,3,4,14,\n",
        "            15,26,14,5,13,9,9,8,8,12,20,19,18,19,17,12,21,7,29,22,\n",
        "            18,19,15,19,22,24,11,20,21,26,21,23,18,20,24,20,16,20,19,18)\n",
        "\n",
        "rainfall2<-c(26,30,5,33,15,27,25,36,18,9,31,16,27,14,29,17,33,17,10,10,\n",
        "             30,27,12,19,16,25,25,33,26,22,22,6,14,26,26,33,21,26,21,5,\n",
        "             6,13,8,9,26,20,7,13,17,27,16,11,9,20,14,11,24,11,19,25,\n",
        "             6,38,14,5,13,29,18,27,22,27,19,28,19,27,12,11,25,29,11,9,\n",
        "             29,15,28,22,35,22,10,31,26,32,23,27,12,30,16,30,19,28,14,23)"
      ],
      "metadata": {
        "id": "Jd2IDPrp4aNq"
      },
      "execution_count": null,
      "outputs": []
    },
    {
      "cell_type": "markdown",
      "source": [
        "# Various functions for parameter transformation, likelihood computation"
      ],
      "metadata": {
        "id": "rH4j1k7Z19fj"
      }
    },
    {
      "cell_type": "code",
      "source": [
        "#====================================== transforming natural parameters to working\n",
        "pois.HMM.pn2pw <- function(m,lambda,gamma,delta=NULL, stationary=TRUE){\n",
        "  tlambda <- log(lambda)\n",
        "  if(m==1) return(tlambda)\n",
        "  foo <- log(gamma/diag(gamma))\n",
        "  tgamma <- as.vector(foo[!diag(m)])\n",
        "  if(stationary) {tdelta <- NULL}\n",
        "    else {tdelta <- log(delta[-1]/delta[1])}\n",
        "  parvect <- c(tlambda,tgamma,tdelta)\n",
        "  return(parvect)\n",
        "}\n",
        "\n",
        "#====================================== transforming working parameters to natural\n",
        "pois.HMM.pw2pn <- function(m,parvect,stationary=TRUE){\n",
        "  lambda <- exp(parvect[1:m])\n",
        "  gamma <- diag(m)\n",
        "  if (m==1) return(list(lambda=lambda,gamma=gamma,delta=1))\n",
        "  gamma[!gamma] <- exp(parvect[(m+1):(m*m)])\n",
        "  gamma <- gamma/apply(gamma,1,sum)\n",
        "  if(stationary){delta<-solve(t(diag(m)-gamma+1),rep(1,m))}\n",
        "    else {foo<-c(1,exp(parvect[(m*m+1):(m*m+m-1)]))\n",
        "    delta<-foo/sum(foo)}\n",
        "  return(list(lambda=lambda,gamma=gamma,delta=delta))\n",
        "}\n",
        "\n",
        "#====================================== computing minus the log-likelihood from the working parameters\n",
        "pois.HMM.mllk <- function(parvect,x,m,stationary=TRUE,...){\n",
        "  if(m==1) return(-sum(dpois(x,exp(parvect),log=TRUE)))\n",
        "  n <- length(x)\n",
        "  pn <- pois.HMM.pw2pn(m,parvect,stationary=stationary)\n",
        "  foo <- pn$delta*dpois(x[1],pn$lambda)\n",
        "  sumfoo <- sum(foo)\n",
        "  lscale <- log(sumfoo)\n",
        "  foo <- foo/sumfoo\n",
        "  for (i in 2:n){\n",
        "    if (!is.na(x[i])){P<-dpois(x[i],pn$lambda)}\n",
        "      else {P<-rep(1,m)}\n",
        "    foo <- foo %*% pn$gamma*P\n",
        "    sumfoo <- sum(foo)\n",
        "    lscale <- lscale+log(sumfoo)\n",
        "    foo <- foo/sumfoo\n",
        "  }\n",
        "  mllk <- -lscale\n",
        "  return(mllk)\n",
        "}\n",
        "\n",
        "#====================================== computing the MLEs, given starting values for the natural parameters\n",
        "pois.HMM.mle <- function(x,m,lambda0,gamma0,delta0=NULL,stationary=TRUE,...){\n",
        "  parvect0 <- pois.HMM.pn2pw(m,lambda0,gamma0,delta0,stationary=stationary)\n",
        "  mod <- nlm(pois.HMM.mllk,parvect0,x=x,m=m,stationary=stationary)\n",
        "  pn <- pois.HMM.pw2pn(m=m,mod$estimate,stationary=stationary)\n",
        "  mllk <- mod$minimum\n",
        "  np <- length(parvect0)\n",
        "  AIC <- 2*(mllk+np)\n",
        "  n <- sum(!is.na(x))\n",
        "  BIC <- 2*mllk+np*log(n)\n",
        "  list(m=m, lambda=pn$lambda,gamma=pn$gamma,delta=pn$delta,code=mod$code,mllk=mllk,AIC=AIC,BIC=BIC)\n",
        "}\n",
        "\n",
        "#====================================== computing log(forward probabilities)\n",
        "pois.HMM.lforward<-function(x,mod){\n",
        "  n <- length(x)\n",
        "  lalpha <- matrix(NA,mod$m,n)\n",
        "  foo <- mod$delta*dpois(x[1],mod$lambda)\n",
        "  sumfoo <- sum(foo)\n",
        "  lscale <- log(sumfoo)\n",
        "  foo <- foo/sumfoo\n",
        "  lalpha[,1] <- lscale+log(foo)\n",
        "  for (i in 2:n){\n",
        "    foo <- foo%*%mod$gamma*dpois(x[i],mod$lambda)\n",
        "    sumfoo <- sum(foo)\n",
        "    lscale <- lscale+log(sumfoo)\n",
        "    foo <- foo/sumfoo\n",
        "    lalpha[,i] <- log(foo)+lscale\n",
        "  }\n",
        "  return(lalpha)\n",
        "}"
      ],
      "metadata": {
        "id": "xPvD5PE3123x"
      },
      "execution_count": null,
      "outputs": []
    },
    {
      "cell_type": "markdown",
      "source": [
        "# Fitting Possion HMM"
      ],
      "metadata": {
        "id": "kC3lPoFN5GZf"
      }
    },
    {
      "cell_type": "code",
      "source": [
        "#Possion_HMM\n",
        "#MLE+BW\n",
        "library(\"HiddenMarkov\")\n",
        "#nstate = 2 (non-stationary case)\n",
        "Pi <- rbind(c(.8,.2),c(.1,.9))\n",
        "mod <- dthmm(rainfall,Pi=Pi,delta=c(.5,.5),\"pois\", list(lambda=c(10,20)))\n",
        "fitted.mod.HM <- BaumWelch(mod)\n",
        "summary(fitted.mod.HM)\n",
        "\n",
        "#nstate = 2 (stationary case)\n",
        "Pi <- rbind(c(.8,.2),c(.1,.9))\n",
        "fitted.mod.HM.stat <- dthmm(rainfall,Pi=Pi,delta=c(.5,.5),\"pois\",list(lambda=c(10,20)),nonstat=FALSE)\n",
        "summary(fitted.mod.HM.stat)\n",
        "BaumWelch(fitted.mod.HM.stat)\n",
        "\n",
        "#RSS\n",
        "library(\"ggplot2\")\n",
        "Residuals <- residuals(fitted.mod.HM)\n",
        "RSS <- sum(Residuals^2)\n",
        "mean(Residuals)\n",
        "2*sqrt(var(Residuals))\n",
        "Index <- c(1:75)\n",
        "Index <- data.frame(Index)\n",
        "df <- data.frame(Residuals,Index)\n",
        "ggplot(df, aes(Index, Residuals)) +\n",
        "  geom_point()+\n",
        "  ggtitle(\"Two-state Poisson HMM residuals plot\")+\n",
        "  theme(panel.border = element_rect(color = \"black\",\n",
        "                                  fill = NA,\n",
        "                                  size = 1))+\n",
        "  geom_hline(yintercept=2.084557,col = \"red\")+\n",
        "  geom_hline(yintercept=-2.084557,col = \"red\")+\n",
        "  geom_rect(aes(xmin = -Inf, xmax = Inf, ymin = 2.084557, ymax = Inf),\n",
        "            fill = \"pink\", alpha = 0.01)+\n",
        "  geom_rect(aes(xmin = -Inf, xmax = Inf, ymin = -Inf, ymax = -2.084557),\n",
        "            fill = \"pink\", alpha = 0.01)+\n",
        "  theme(plot.title = element_text(hjust = 0.5))\n",
        "\n",
        "#nstate = 3 (non-stationary case)\n",
        "Pi <- rbind(c(.8,.0,.7),c(.2,.0,.3),c(.0,1,.0))\n",
        "mod <- dthmm(rainfall,Pi=Pi,delta=c(1/3,1/3,1/3),\"pois\", list(lambda=c(10,20,30)))\n",
        "fitted.mod.HM <- BaumWelch(mod)\n",
        "summary(fitted.mod.HM)\n",
        "\n",
        "#nstate = 3 (stationary case)\n",
        "Pi <- rbind(c(.0,.7,.3),c(.0,.8,.2),c(1,.0,.0))\n",
        "fitted.mod.HM.stat <- dthmm(rainfall,Pi=Pi,delta=c(1/3,1/3,1/3),\"pois\",list(lambda=c(10,20,30)),nonstat=FALSE)\n",
        "summary(fitted.mod.HM.stat)\n",
        "BaumWelch(fitted.mod.HM.stat)\n",
        "\n",
        "#RSS\n",
        "Residuals <- residuals(fitted.mod.HM)\n",
        "mean(Residuals)\n",
        "RSS <- sum(Residuals^2)\n",
        "RSS\n",
        "2*sqrt(var(Residuals))\n",
        "Index <- c(1:75)\n",
        "Index <- data.frame(Index)\n",
        "df <- data.frame(Residuals,Index)\n",
        "ggplot(df, aes(Index, Residuals)) +\n",
        "  geom_point()+\n",
        "  ggtitle(\"Three-state Poisson HMM residuals plot\")+\n",
        "  theme(panel.border = element_rect(color = \"black\",\n",
        "                                    fill = NA,\n",
        "                                    size = 1))+\n",
        "  geom_hline(yintercept=1.973902,col = \"red\")+\n",
        "  geom_hline(yintercept=-1.973902,col = \"red\")+\n",
        "  geom_rect(aes(xmin = -Inf, xmax = Inf, ymin = 1.973902, ymax = Inf),\n",
        "            fill = \"pink\", alpha = 0.01)+\n",
        "  geom_rect(aes(xmin = -Inf, xmax = Inf, ymin = -Inf, ymax = -1.973902),\n",
        "            fill = \"pink\", alpha = 0.01)+\n",
        "  theme(plot.title = element_text(hjust = 0.5))\n",
        "\n",
        "#EM algorithm\n",
        "#generate some Poisson mixture data\n",
        "data <- c(rpois(100,2), rpois(100,10))\n",
        "\n",
        "#run the ML-EM algorithm to learn the mixture model\n",
        "library(PoissonMixR)\n",
        "t1 <- EM_PMM_algo(rainfall,2,iter = 50)\n",
        "\n",
        "#plot the EM objective function, should be monotonically increasing and monitors convergence\n",
        "plot(t1$sum_of_rows_ln_sum,\n",
        "     type = 'l',\n",
        "     main = \"convergence of EM objective function\",\n",
        "     bty = 'n')\n",
        "\n",
        "#check the cluster assignments (using original data this is not a prediction, which can also be done)\n",
        "cluster_indicator <- c()\n",
        "for(i in 1:length(rainfall)){\n",
        "  cluster_indicator <- c(cluster_indicator,which.max(t1$norm_phi[i,]))\n",
        "}\n",
        "plot(rainfall,cluster_indicator,\n",
        "     pch = 16,\n",
        "     bty = 'n')"
      ],
      "metadata": {
        "id": "DyyFYG5041D6",
        "colab": {
          "base_uri": "https://localhost:8080/",
          "height": 130
        },
        "outputId": "e713ec18-e31f-4eb1-93e9-dc2bb76dbd58"
      },
      "execution_count": null,
      "outputs": [
        {
          "output_type": "error",
          "ename": "ERROR",
          "evalue": "ignored",
          "traceback": [
            "Error in library(\"HiddenMarkov\"): there is no package called ‘HiddenMarkov’\nTraceback:\n",
            "1. library(\"HiddenMarkov\")"
          ]
        }
      ]
    },
    {
      "cell_type": "markdown",
      "source": [
        "# Fitting 2-state and 3-state HMM"
      ],
      "metadata": {
        "id": "9ymiZ6Ai2UzR"
      }
    },
    {
      "cell_type": "code",
      "source": [
        "#====================================== fit 2-state HMM\n",
        "m<-2\n",
        "lambda0<-c(15,25)\n",
        "gamma0<-matrix(\n",
        "  c(\n",
        "  0.9,0.1,\n",
        "  0.1,0.9\n",
        "),m,m,byrow=TRUE)\n",
        "mod2s<-pois.HMM.mle(x,m,lambda0,gamma0,stationary=TRUE)\n",
        "delta0<-c(1,1)/2\n",
        "mod2h<-pois.HMM.mle(x,m,lambda0,gamma0,delta=delta0,stationary=FALSE)\n",
        "mod2s; mod2h\n",
        "\n",
        "#====================================== fit 3-state HMM\n",
        "m<-3\n",
        "lambda0<-c(10,20,30)\n",
        "gamma0<-matrix(\n",
        "  c(\n",
        "    0.8,0.1,0.1,\n",
        "    0.1,0.8,0.1,\n",
        "    0.1,0.1,0.8\n",
        "  ),m,m,byrow=TRUE)\n",
        "mod3s<-pois.HMM.mle(x,m,lambda0,gamma0,stationary=TRUE)\n",
        "delta0 <- c(1,1,1)/3\n",
        "mod3h<-pois.HMM.mle(x,m,lambda0,gamma0,delta=delta0,stationary=FALSE)\n",
        "mod3s; mod3h"
      ],
      "metadata": {
        "id": "_kUTUBi52Pwk",
        "colab": {
          "base_uri": "https://localhost:8080/",
          "height": 217
        },
        "outputId": "6e0ff196-4749-4e66-a2f7-f7fe4076a3a5"
      },
      "execution_count": null,
      "outputs": [
        {
          "output_type": "error",
          "ename": "ERROR",
          "evalue": "ignored",
          "traceback": [
            "Error in f(x, ...): object 'x' not found\nTraceback:\n",
            "1. pois.HMM.mle(x, m, lambda0, gamma0, stationary = TRUE)",
            "2. nlm(pois.HMM.mllk, parvect0, x = x, m = m, stationary = stationary)   # at line 50 of file <text>",
            "3. (function (x) \n . f(x, ...))(c(2.70805020110221, 3.2188758248682, -2.19722457733622, \n . -2.19722457733622))",
            "4. f(x, ...)"
          ]
        }
      ]
    },
    {
      "cell_type": "markdown",
      "source": [
        "# State Prediction"
      ],
      "metadata": {
        "id": "AleIJhQF2bbw"
      }
    },
    {
      "cell_type": "code",
      "source": [
        "#====================================== state prediction\n",
        "pois.HMM.state_prediction <- function(h=1,x,mod){\n",
        "  n <- length(x)\n",
        "  la <- pois.HMM.lforward(x,mod)\n",
        "  c <- max(la[,n])\n",
        "  llk <- c+log(sum(exp(la[,n]-c)))\n",
        "  statepreds <- matrix(NA,ncol=h,nrow=mod$m)\n",
        "  foo <- exp(la[,n]-llk)\n",
        "  for (i in 1:h){\n",
        "    foo <- foo%*%mod$gamma\n",
        "    statepreds[,i] <- foo\n",
        "  }\n",
        "  return(statepreds)\n",
        "}\n",
        "\n",
        "pois.HMM.state_prediction(50,x,mod3s)\n",
        "pois.HMM.state_prediction(50,x,mod3h)"
      ],
      "metadata": {
        "id": "VoXK3e492cG_"
      },
      "execution_count": null,
      "outputs": []
    },
    {
      "cell_type": "markdown",
      "source": [
        "# Forecast Probabilities"
      ],
      "metadata": {
        "id": "WP6gFp4M3Pp7"
      }
    },
    {
      "cell_type": "code",
      "source": [
        "#====================================== forecast probabilities\n",
        "# note that the output 'dxf' is a matrix\n",
        "pois.HMM.forecast <- function(xf,h=1,x,mod){\n",
        "  n <- length(x)\n",
        "  nxf <- length(xf)\n",
        "  dxf <- matrix(0,nrow=h,ncol=nxf)\n",
        "  foo <- mod$delta*dpois(x[1],mod$lambda)\n",
        "  sumfoo <- sum(foo)\n",
        "  lscale <- log(sumfoo)\n",
        "  foo <- foo/sumfoo\n",
        "  for (i in 2:n){\n",
        "    foo <- foo%*%mod$gamma*dpois(x[i],mod$lambda)\n",
        "    sumfoo <- sum(foo)\n",
        "    lscale <- lscale+log(sumfoo)\n",
        "    foo <- foo/sumfoo\n",
        "  }\n",
        "  for (i in 1:h){\n",
        "    foo <- foo%*%mod$gamma\n",
        "    for (j in 1:mod$m) dxf[i,] <- dxf[i,] + foo[j]*dpois(xf,mod$lambda[j])\n",
        "  }\n",
        "  return(dxf)\n",
        "}\n",
        "\n",
        "\n",
        "#=== use it for 1-step-ahead and plot the forecast distribution\n",
        "h<-1\n",
        "xf<-0:50\n",
        "forecasts<-pois.HMM.forecast(xf,h,x,mod3s)\n",
        "fc<-forecasts[1,]\n",
        "par(mfrow=c(1,1),las=1)\n",
        "plot(xf,fc,type=\"h\",\n",
        "     main=paste(\"Rainfall series: forecast distribution for\", d[n]+1),\n",
        "     xlim=c(0,max(xf)),ylim=c(0,0.12),xlab=\"count\",ylab=\"probability\",lwd=3)\n",
        "\n",
        "#=== forecast 1-4 steps ahead and plot these\n",
        "h<-4\n",
        "xf<-0:45\n",
        "forecasts<-pois.HMM.forecast(xf,h,x,mod3s)\n",
        "\n",
        "par(mfrow=c(2,2),las=1)\n",
        "for (i in 1:4){\n",
        "  fc<-forecasts[i,]\n",
        "  plot(xf,fc,type=\"h\",main=paste(\"Forecast distribution for\",d[n]+i),\n",
        "       xlim=c(0,max(xf)),ylim=c(0,0.12),xlab=\"count\",ylab=\"probability\",lwd=3)\n",
        "}\n",
        "\n",
        "#=== Compute the marginal distribution for mod3h.\n",
        "#=== This is also the long-term forecast.\n",
        "m<-3\n",
        "lambda<-mod3h$lambda\n",
        "delta<-solve(t(diag(m)-mod3h$gamma+1),rep(1,m))\n",
        "datat<-numeric(length(xf))\n",
        "for (j in 1:m) datat <- datat + delta[j]*dpois(xf,lambda[j])\n",
        "\n",
        "#=== Compare the 50-year ahead forecast with the long-term forecast.\n",
        "h<-50\n",
        "xf<-0:45\n",
        "forecasts<-pois.HMM.forecast(xf,h,x,mod3h)\n",
        "fc<-forecasts[h,]\n",
        "par(mfrow=c(1,1),las=1)\n",
        "plot(xf,fc,type=\"h\",\n",
        "     main=paste(\"Forecast distribution for\", d[n]+h),\n",
        "     xlim=c(0,max(xf)),ylim=c(0,0.12),xlab=\"count\",ylab=\"probability\",lwd=3)\n",
        "lines(xf,datat,col=\"gray\",lwd=3)"
      ],
      "metadata": {
        "id": "L7IatIXI3KyB"
      },
      "execution_count": null,
      "outputs": []
    }
  ]
}